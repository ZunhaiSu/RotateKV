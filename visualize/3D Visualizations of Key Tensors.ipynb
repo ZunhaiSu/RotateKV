{
 "cells": [
  {
   "cell_type": "code",
   "execution_count": null,
   "id": "96d6d226-9354-4775-aece-fd93be8ccfa7",
   "metadata": {},
   "outputs": [],
   "source": [
    "import matplotlib.pyplot as plt\n",
    "import numpy as np\n",
    "import torch"
   ]
  },
  {
   "cell_type": "code",
   "execution_count": null,
   "id": "551a2ea5-4817-4ede-bdf1-9aa7f70a0016",
   "metadata": {},
   "outputs": [],
   "source": [
    "key_states = torch.load(\"../save_tensors/attn_weights_post_rope_layer_11_sample_82.pt\")\n",
    "(bsz, num_key_value_heads, q_len, head_dim) = key_states.shape\n",
    "key_states = key_states.transpose(1, 2).view(q_len, num_key_value_heads * head_dim)[2048,:].cpu().numpy()"
   ]
  },
  {
   "cell_type": "code",
   "execution_count": null,
   "id": "0bd5ca32-3b6c-4e65-85a9-a929c6b8d5fe",
   "metadata": {},
   "outputs": [],
   "source": [
    "head_id = \n",
    "k = key_states_origin[0, head_id, :2048,:]\n",
    "\n",
    "tokens, channels = k.shape\n",
    "x = np.arange(tokens)\n",
    "y = np.arange(channels)\n",
    "X, Y = np.meshgrid(x, y)\n",
    "\n",
    "fig = plt.figure(figsize=(6, 6))\n",
    "ax = fig.add_subplot(111, projection='3d')\n",
    "\n",
    "surf = ax.plot_surface(X, Y, k.T, cmap='coolwarm')\n",
    "\n",
    "\n",
    "ax.set_xlabel('Token', labelpad=-5)\n",
    "ax.set_ylabel('Channel', labelpad=-1)\n",
    "plt.tight_layout()\n",
    "# plt.savefig(\"\")\n",
    "plt.show()"
   ]
  }
 ],
 "metadata": {
  "kernelspec": {
   "display_name": "Python 3 (ipykernel)",
   "language": "python",
   "name": "python3"
  },
  "language_info": {
   "codemirror_mode": {
    "name": "ipython",
    "version": 3
   },
   "file_extension": ".py",
   "mimetype": "text/x-python",
   "name": "python",
   "nbconvert_exporter": "python",
   "pygments_lexer": "ipython3",
   "version": "3.10.8"
  }
 },
 "nbformat": 4,
 "nbformat_minor": 5
}
