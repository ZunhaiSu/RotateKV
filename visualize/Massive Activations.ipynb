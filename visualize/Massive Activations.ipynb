{
 "cells": [
  {
   "cell_type": "code",
   "execution_count": 1,
   "id": "b8baf54f-29dd-4db2-ae31-1a8f2aff1390",
   "metadata": {},
   "outputs": [],
   "source": [
    "import matplotlib.pyplot as plt\n",
    "import numpy as np\n",
    "import torch"
   ]
  },
  {
   "cell_type": "code",
   "execution_count": null,
   "id": "6dcf731a-d2a6-4cbb-866f-1b555cd0e31d",
   "metadata": {},
   "outputs": [],
   "source": [
    "hidden_states = torch.load(\"\").cpu().abs().numpy()[0,:,:]"
   ]
  },
  {
   "cell_type": "code",
   "execution_count": null,
   "id": "c7b10d04-8a67-4e72-a9fb-bd7b0c1a83f6",
   "metadata": {},
   "outputs": [],
   "source": [
    "flat_indices = np.argpartition(hidden_states.flatten(), -20)[-20:] \n",
    "sorted_indices = flat_indices[np.argsort(hidden_states.flatten()[flat_indices])[::-1]] \n",
    "\n",
    "# 将展平的索引转换回二维坐标\n",
    "coords = np.unravel_index(sorted_indices, hidden_states.shape)\n",
    "\n",
    "x_coords, y_coords = coords\n",
    "values = hidden_states[x_coords, y_coords]\n",
    "\n",
    "for i in range(len(values)):\n",
    "    print(f\"第 {i + 1} 大值: {values[i]}, 横坐标: {x_coords[i]}, 纵坐标: {y_coords[i]}\")\n"
   ]
  },
  {
   "cell_type": "code",
   "execution_count": 4,
   "id": "3be536dc-a4b1-44a6-ac84-520fa428ac8c",
   "metadata": {},
   "outputs": [
    {
     "data": {
      "text/plain": [
       "(120, 4096)"
      ]
     },
     "execution_count": 4,
     "metadata": {},
     "output_type": "execute_result"
    }
   ],
   "source": [
    "data  = hidden_states[:120,:4096]\n",
    "data.shape"
   ]
  },
  {
   "cell_type": "code",
   "execution_count": null,
   "id": "c588bbcb-cf70-4da3-aa8a-b4b0dfe2e0b7",
   "metadata": {},
   "outputs": [],
   "source": [
    "rows, cols = data.shape\n",
    "\n",
    "\n",
    "xpos, ypos = np.meshgrid(np.arange(rows), np.arange(cols), indexing=\"ij\")\n",
    "xpos = xpos.ravel()  \n",
    "ypos = ypos.ravel()\n",
    "zpos = np.zeros_like(xpos)  \n",
    "\n",
    "\n",
    "dx = dy = 5 * np.ones_like(zpos)  \n",
    "dz = data.ravel()  \n",
    "\n",
    "fig = plt.figure(figsize=(6, 6))\n",
    "ax = fig.add_subplot(projection='3d')\n",
    "\n",
    "bars = ax.bar3d(xpos, ypos, zpos, dx, dy, dz, color='blue', alpha=0.8)\n",
    "\n",
    "\n",
    "ax.set_title(\"\", fontsize=20)\n",
    "ax.set_xlabel('Token', fontsize=20)\n",
    "# ax.set_xticks([0, 110])\n",
    "# ax.set_xticklabels(['0', '110'], fontsize=15) \n",
    "ax.set_ylabel('Channel', fontsize=20)\n",
    "# ax.set_yticks([2533, 1415])\n",
    "# ax.set_yticklabels(['2533', '1415'], fontsize=10) \n",
    "plt.tight_layout()\n",
    "plt.savefig(\"\")\n",
    "plt.show()\n"
   ]
  }
 ],
 "metadata": {
  "kernelspec": {
   "display_name": "Python 3 (ipykernel)",
   "language": "python",
   "name": "python3"
  },
  "language_info": {
   "codemirror_mode": {
    "name": "ipython",
    "version": 3
   },
   "file_extension": ".py",
   "mimetype": "text/x-python",
   "name": "python",
   "nbconvert_exporter": "python",
   "pygments_lexer": "ipython3",
   "version": "3.10.8"
  }
 },
 "nbformat": 4,
 "nbformat_minor": 5
}
