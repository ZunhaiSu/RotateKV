{
 "cells": [
  {
   "cell_type": "code",
   "execution_count": 19,
   "id": "07731343-c6c4-4177-bad8-ca144f14ebe0",
   "metadata": {},
   "outputs": [],
   "source": [
    "import matplotlib.pyplot as plt\n",
    "import numpy as np\n",
    "import torch\n",
    "from matplotlib.colors import Normalize"
   ]
  },
  {
   "cell_type": "code",
   "execution_count": 20,
   "id": "e749ba0e-1970-45a9-96f7-c617f412acad",
   "metadata": {},
   "outputs": [],
   "source": [
    "key_states = torch.load(\"\")\n",
    "(bsz, num_key_value_heads, q_len, head_dim) = key_states.shape\n",
    "key_states = key_states.transpose(1, 2).view(q_len, num_key_value_heads * head_dim)[2048,:].cpu().numpy()"
   ]
  },
  {
   "cell_type": "code",
   "execution_count": 21,
   "id": "28511b4a-5e25-4821-b0cb-73409f00329c",
   "metadata": {},
   "outputs": [],
   "source": [
    "x = np.arange(0, num_key_value_heads * head_dim)"
   ]
  },
  {
   "cell_type": "code",
   "execution_count": null,
   "id": "e8254f5b-f318-419d-b74f-180db520ffec",
   "metadata": {},
   "outputs": [],
   "source": [
    "cmap = plt.cm.coolwarm\n",
    "plt.figure(figsize=(8, 6))\n",
    "plt.ylim(-15, 15)\n",
    "norm = Normalize(vmin=0, vmax=16)\n",
    "plt.bar(x, key_states, color=cmap(np.abs(key_states)/np.max(key_states)), alpha=1,  width=50)\n",
    "plt.tick_params(axis='both', which='major', labelsize=15)\n",
    "plt.tight_layout()\n",
    "plt.savefig(\"\")\n",
    "plt.show()"
   ]
  }
 ],
 "metadata": {
  "kernelspec": {
   "display_name": "Python 3 (ipykernel)",
   "language": "python",
   "name": "python3"
  },
  "language_info": {
   "codemirror_mode": {
    "name": "ipython",
    "version": 3
   },
   "file_extension": ".py",
   "mimetype": "text/x-python",
   "name": "python",
   "nbconvert_exporter": "python",
   "pygments_lexer": "ipython3",
   "version": "3.10.8"
  }
 },
 "nbformat": 4,
 "nbformat_minor": 5
}
