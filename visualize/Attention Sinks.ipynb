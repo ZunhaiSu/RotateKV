{
 "cells": [
  {
   "cell_type": "code",
   "execution_count": null,
   "id": "24d95eab-66ad-41c8-9339-d7d64940e381",
   "metadata": {},
   "outputs": [],
   "source": [
    "import numpy as np\n",
    "from matplotlib import pyplot as plt\n",
    "import seaborn as sns\n",
    "import torch\n",
    "import math\n",
    "from torch import nn\n",
    "head_id = \n",
    "attention_scores = torch.load(\"\")[0,head_id,:120,:120].cpu().numpy()\n",
    "def vis_attention_matrix(attention_scores, index=0, cmap=\"coolwarm\", head_id=head_id):\n",
    "    plt.figure(figsize=(5, 5))\n",
    "    ax = sns.heatmap(\n",
    "        attention_map,\n",
    "        vmin=0, vmax=0.1,\n",
    "        cmap=cmap,\n",
    "        square=True)\n",
    "    # ax.set_xticks([0, 110])\n",
    "    # ax.set_xticklabels(['0', '110'])\n",
    "    ax.set_yticks([])\n",
    "vis_attention_matrix(attention_scores)\n",
    "plt.title(\"\", fontsize=20)\n",
    "plt.savefig(\"\")\n",
    "plt.show()"
   ]
  }
 ],
 "metadata": {
  "kernelspec": {
   "display_name": "Python 3 (ipykernel)",
   "language": "python",
   "name": "python3"
  },
  "language_info": {
   "codemirror_mode": {
    "name": "ipython",
    "version": 3
   },
   "file_extension": ".py",
   "mimetype": "text/x-python",
   "name": "python",
   "nbconvert_exporter": "python",
   "pygments_lexer": "ipython3",
   "version": "3.10.8"
  }
 },
 "nbformat": 4,
 "nbformat_minor": 5
}
