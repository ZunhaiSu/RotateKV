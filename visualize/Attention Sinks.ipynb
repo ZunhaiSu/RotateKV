{
 "cells": [
  {
   "cell_type": "code",
   "execution_count": null,
   "id": "24d95eab-66ad-41c8-9339-d7d64940e381",
   "metadata": {},
   "outputs": [],
   "source": [
    "import numpy as np\n",
    "from matplotlib import pyplot as plt\n",
    "import seaborn as sns\n",
    "import torch\n",
    "import math\n",
    "from torch import nn\n",
    "head_id = "
   ]
  },
  {
   "cell_type": "code",
   "execution_count": null,
   "id": "b433f7b4-0659-4733-b148-5bfc24a84224",
   "metadata": {},
   "outputs": [],
   "source": [
    "def vis_attention_matrix(attention_scores, index=0, cmap=\"coolwarm\", head_id=head_id):\n",
    "    plt.figure(figsize=(5, 5))\n",
    "    ax = sns.heatmap(\n",
    "        attention_map,\n",
    "        vmin=0, vmax=0.1,\n",
    "        cmap=cmap,\n",
    "        square=True)\n",
    "    # ax.set_xticks([0, 110])\n",
    "    # ax.set_xticklabels(['0', '110'])\n",
    "    ax.set_yticks([])"
   ]
  },
  {
   "cell_type": "code",
   "execution_count": null,
   "id": "0ec57b76-03a7-4e64-bb56-917bf37b13e0",
   "metadata": {},
   "outputs": [],
   "source": [
    "attention_scores = torch.load(\"../save_tensors/key_states_post_rope_layer_11_sample_82.pt\")[0,head_id,:120,:120].cpu().numpy()\n",
    "vis_attention_matrix(attention_scores)\n",
    "plt.title(\"\", fontsize=20)\n",
    "# plt.savefig(\"\")\n",
    "plt.show()"
   ]
  }
 ],
 "metadata": {
  "kernelspec": {
   "display_name": "Python 3 (ipykernel)",
   "language": "python",
   "name": "python3"
  },
  "language_info": {
   "codemirror_mode": {
    "name": "ipython",
    "version": 3
   },
   "file_extension": ".py",
   "mimetype": "text/x-python",
   "name": "python",
   "nbconvert_exporter": "python",
   "pygments_lexer": "ipython3",
   "version": "3.10.8"
  }
 },
 "nbformat": 4,
 "nbformat_minor": 5
}
